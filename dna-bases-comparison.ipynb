{
 "cells": [
  {
   "cell_type": "code",
   "execution_count": 78,
   "metadata": {},
   "outputs": [],
   "source": [
    "def new_base():\n",
    "    base = {}\n",
    "    for i in ['A', 'T', 'C', 'G']:\n",
    "        for j in ['A', 'T', 'C', 'G']:\n",
    "            base[i+j] = 0\n",
    "    return base\n",
    "\n",
    "\n",
    "def count_bases_for(dna):\n",
    "    base = new_base()\n",
    "    \n",
    "    for k in range(len(dna)-1):    \n",
    "        index = dna[k] + dna[k+1]\n",
    "\n",
    "        if not index in base:\n",
    "            continue\n",
    "\n",
    "        base[index] += 1\n",
    "    return base\n",
    "\n",
    "\n",
    "def print_dna_bases(dna, title, output):\n",
    "    output.write(\"<br>\")\n",
    "    output.write(\"<div>\" + title + \"</div>\")\n",
    "    output.write(\"<br>\")\n",
    "    \n",
    "    i = 1    \n",
    "    for k in dna:    \n",
    "        transparence = dna[k]/max(dna.values())\n",
    "        output.write(\"<div style='width:100px; border: 1px solid #111; color: #fff; height: 100px; float: left; background-color: rgba(0, 0 , 0,\"\n",
    "                     + str(transparence) + \")'>\"+k+\"</div>\")\n",
    "        if i % 4 == 0:\n",
    "            output.write(\"<div style='clear:both'></div>\")\n",
    "        i+=1            \n",
    "      \n",
    "        \n",
    "# Init #\n",
    "\n",
    "bacteria_dna = open(r'Escherichia.fasta').read().replace(\"\\n\", \"\")\n",
    "human_dna = open(r'Human.fasta').read().replace(\"\\n\", \"\")\n",
    "\n",
    "human = count_bases_for(human_dna)\n",
    "bacteria = count_bases_for(bacteria_dna)\n",
    "\n",
    "output = open(\"dna_human_bacteria.html\", \"w\")\n",
    "\n",
    "print_dna_bases(human, \"Human DNA Bases\", output)\n",
    "print_dna_bases(bacteria, \"Bacteria DNA Bases\", output)\n",
    "\n",
    "output.close() "
   ]
  },
  {
   "cell_type": "code",
   "execution_count": null,
   "metadata": {},
   "outputs": [],
   "source": []
  }
 ],
 "metadata": {
  "kernelspec": {
   "display_name": "Python 3",
   "language": "python",
   "name": "python3"
  },
  "language_info": {
   "codemirror_mode": {
    "name": "ipython",
    "version": 3
   },
   "file_extension": ".py",
   "mimetype": "text/x-python",
   "name": "python",
   "nbconvert_exporter": "python",
   "pygments_lexer": "ipython3",
   "version": "3.7.2"
  }
 },
 "nbformat": 4,
 "nbformat_minor": 2
}
